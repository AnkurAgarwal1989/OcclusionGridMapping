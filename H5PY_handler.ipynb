{
 "cells": [
  {
   "cell_type": "code",
   "execution_count": 21,
   "metadata": {
    "collapsed": false
   },
   "outputs": [],
   "source": [
    "import h5py\n",
    "import numpy as np\n",
    "import matplotlib.pyplot as plt\n",
    "from PIL import Image\n",
    "%matplotlib inline"
   ]
  },
  {
   "cell_type": "code",
   "execution_count": 58,
   "metadata": {
    "collapsed": false
   },
   "outputs": [],
   "source": [
    "#Function reads one single image from the data\n",
    "\n",
    "#end defaults to 0. If 0, only 1 frame @ begin is read\n",
    "#if both startIdx and endIdx are provIdxed and endIdx > startIdx, data includes startIdx, excludes endIdx: (startIdx, endIdx]\n",
    "\n",
    "def getData(filename, dataset, startIdx, endIdx=0):\n",
    "    if (endIdx == 0):\n",
    "        endIdx = startIdx + 1; # since we will be returning only 1 frame\n",
    "    \n",
    "    if (startIdx > endIdx or startIdx < 0 or endIdx < 0): # starting has to be before ending\n",
    "        print \"Unable to read file. Ensure Starting index is lesser than Ending index. Both numbers should be positive integers\"\n",
    "        return None\n",
    "    \n",
    "    try:\n",
    "        file = h5py.File(filename, 'r')   # 'r' means that hdf5 file is open in read-only mode\n",
    "    except Exception as e:\n",
    "        print(\"Problem in file reading {}\".format(e));\n",
    "        file.close();\n",
    "        return None;\n",
    "        \n",
    "    #ensure we are reading within valIdx bounds\n",
    "    if (startIdx >= file[dataset].shape[2] or endIdx > file[dataset].shape[2]):\n",
    "        print 'Index out of bounds when reading file {}. Max size is {}'.format(filename, file[dataset].shape[2]);\n",
    "        file.close();\n",
    "        return None\n",
    "            \n",
    "    #shape of data is (100, 100, n_frames)\n",
    "    #we need to transpose to be able to read and plot (just for ease)\n",
    "    print file[dataset].shape[2]\n",
    "    data = file[dataset][:, :, startIdx : endIdx];\n",
    "    file.close();\n",
    "    return data#.transpose(2, 0, 1)\n",
    "    \n",
    "\n",
    "##Function to display the grid map as image\n",
    "#params: single frame,a 2d image\n",
    "#       bool flag to save a image as temp.png\n",
    "def showData(img, saveImg = False, fileName = None):\n",
    "    if (img is not None):\n",
    "        plt.imshow(img, cmap='Greys_r')\n",
    "        if (saveImg):\n",
    "            im = Image.fromarray(img)\n",
    "            if (fileName is not None):\n",
    "                im.save(fileName)\n",
    "            else:\n",
    "                im.save('temp.png')"
   ]
  },
  {
   "cell_type": "code",
   "execution_count": 60,
   "metadata": {
    "collapsed": false
   },
   "outputs": [
    {
     "name": "stdout",
     "output_type": "stream",
     "text": [
      "1000000\n"
     ]
    },
    {
     "data": {
      "image/png": "[encoded data removed]",
      "text/plain": [
       "<matplotlib.figure.Figure at 0x10e21b00>"
      ]
     },
     "metadata": {},
     "output_type": "display_data"
    }
   ],
   "source": [
    "GT = getData('data.h5', 'ground_truth', 999980, 1000000)\n",
    "for i in range(0, 20):\n",
    "    showData(GT[:, :, i], True, 'GT'+str(i)+'.png');\n"
   ]
  },
  {
   "cell_type": "code",
   "execution_count": 33,
   "metadata": {
    "collapsed": false
   },
   "outputs": [
    {
     "name": "stdout",
     "output_type": "stream",
     "text": [
      "1000000\n"
     ]
    }
   ],
   "source": [
    "scans = getData('data.h5', 'occupancy', 0, 20)\n",
    "#for i in range(0, 20):\n",
    "#    showData(scans[:, :, i], True, 'temp_'+str(i)+'.png');"
   ]
  },
  {
   "cell_type": "code",
   "execution_count": 27,
   "metadata": {
    "collapsed": false
   },
   "outputs": [],
   "source": [
    "g = GT[26, 41, 0]\n",
    "s = scans[26, 41, :]"
   ]
  },
  {
   "cell_type": "code",
   "execution_count": 28,
   "metadata": {
    "collapsed": false
   },
   "outputs": [
    {
     "data": {
      "text/plain": [
       "array([255, 127, 127, 127, 127, 127,   0,   0,   0,   0,   0,   0,   0,\n",
       "         0,   0,   0,   0,   0,   0,   0], dtype=uint8)"
      ]
     },
     "execution_count": 28,
     "metadata": {},
     "output_type": "execute_result"
    }
   ],
   "source": [
    "s"
   ]
  },
  {
   "cell_type": "code",
   "execution_count": 36,
   "metadata": {
    "collapsed": false
   },
   "outputs": [
    {
     "data": {
      "text/plain": [
       "False"
      ]
     },
     "execution_count": 36,
     "metadata": {},
     "output_type": "execute_result"
    }
   ],
   "source": [
    "np.array_equal(GT[:, :, 0], GT[:, :, 2])"
   ]
  },
  {
   "cell_type": "code",
   "execution_count": 37,
   "metadata": {
    "collapsed": false
   },
   "outputs": [
    {
     "data": {
      "text/plain": [
       "array([[False, False,  True, ...,  True,  True,  True],\n",
       "       [False,  True,  True, ...,  True,  True,  True],\n",
       "       [ True,  True,  True, ...,  True,  True,  True],\n",
       "       ..., \n",
       "       [ True,  True,  True, ...,  True,  True,  True],\n",
       "       [ True,  True,  True, ...,  True,  True,  True],\n",
       "       [ True,  True,  True, ...,  True,  True,  True]], dtype=bool)"
      ]
     },
     "execution_count": 37,
     "metadata": {},
     "output_type": "execute_result"
    }
   ],
   "source": [
    "GT[:, :, 0] == GT[:, :, 2]"
   ]
  },
  {
   "cell_type": "code",
   "execution_count": 38,
   "metadata": {
    "collapsed": false
   },
   "outputs": [
    {
     "data": {
      "text/plain": [
       "0"
      ]
     },
     "execution_count": 38,
     "metadata": {},
     "output_type": "execute_result"
    }
   ],
   "source": [
    "GT[0,0,0]"
   ]
  },
  {
   "cell_type": "code",
   "execution_count": 39,
   "metadata": {
    "collapsed": false
   },
   "outputs": [
    {
     "data": {
      "text/plain": [
       "255"
      ]
     },
     "execution_count": 39,
     "metadata": {},
     "output_type": "execute_result"
    }
   ],
   "source": [
    "GT[0,0,2]"
   ]
  },
  {
   "cell_type": "code",
   "execution_count": null,
   "metadata": {
    "collapsed": true
   },
   "outputs": [],
   "source": []
  }
 ],
 "metadata": {
  "kernelspec": {
   "display_name": "Python 2",
   "language": "python",
   "name": "python2"
  },
  "language_info": {
   "codemirror_mode": {
    "name": "ipython",
    "version": 2
   },
   "file_extension": ".py",
   "mimetype": "text/x-python",
   "name": "python",
   "nbconvert_exporter": "python",
   "pygments_lexer": "ipython2",
   "version": "2.7.11"
  }
 },
 "nbformat": 4,
 "nbformat_minor": 0
}
