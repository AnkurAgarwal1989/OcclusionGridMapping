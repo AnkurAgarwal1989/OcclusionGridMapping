{
 "cells": [
  {
   "cell_type": "code",
   "execution_count": 18,
   "metadata": {
    "collapsed": true
   },
   "outputs": [],
   "source": [
    "import sys\n",
    "sys.path.insert(0, 'OccGrid/OccGrid')\n",
    "import OG\n",
    "import DataHandler\n",
    "import numpy as np"
   ]
  },
  {
   "cell_type": "code",
   "execution_count": null,
   "metadata": {
    "collapsed": true
   },
   "outputs": [],
   "source": [
    "import DataHandler"
   ]
  },
  {
   "cell_type": "code",
   "execution_count": 3,
   "metadata": {
    "collapsed": false
   },
   "outputs": [],
   "source": [
    "#utility function uses data handler to read both GT and LS data\n",
    "#data is (begin, end]\n",
    "def getData(h5_file, begin, end):\n",
    "    #read ground truth data\n",
    "    GT = DataHandler.getData(h5_file, 'ground_truth', begin, end);\n",
    "    \n",
    "    #read laser scan data\n",
    "    LS = DataHandler.getData(h5_file, 'occupancy',  begin, end)\n",
    "    \n",
    "    #if one wishes to save data as images\n",
    "    #for i in range(<data shape>):\n",
    "    #    DataHandler.showData(GT[:, :, i], True, 'GT'+str(i)+'.png');\n",
    "    \n",
    "    return (GT, LS)\n"
   ]
  },
  {
   "cell_type": "code",
   "execution_count": 4,
   "metadata": {
    "collapsed": false
   },
   "outputs": [],
   "source": [
    "GT, LS = getData('data.h5', 0, 20)"
   ]
  },
  {
   "cell_type": "code",
   "execution_count": 5,
   "metadata": {
    "collapsed": false
   },
   "outputs": [],
   "source": [
    "# indexing is y, x, frame#\n",
    "G = GT[26, 41, :]\n",
    "S = LS[26, 41, :]   "
   ]
  },
  {
   "cell_type": "code",
   "execution_count": 6,
   "metadata": {
    "collapsed": false
   },
   "outputs": [
    {
     "data": {
      "text/plain": [
       "array([255,   0,   0,   0,   0,   0,   0,   0,   0, 255, 255,   0,   0,\n",
       "         0,   0,   0,   0,   0,   0,   0], dtype=uint8)"
      ]
     },
     "execution_count": 6,
     "metadata": {},
     "output_type": "execute_result"
    }
   ],
   "source": [
    "G"
   ]
  },
  {
   "cell_type": "code",
   "execution_count": 7,
   "metadata": {
    "collapsed": false
   },
   "outputs": [
    {
     "data": {
      "text/plain": [
       "array([255, 127, 127, 127, 127, 127,   0,   0,   0,   0,   0,   0,   0,\n",
       "         0,   0,   0,   0,   0,   0,   0], dtype=uint8)"
      ]
     },
     "execution_count": 7,
     "metadata": {},
     "output_type": "execute_result"
    }
   ],
   "source": [
    "S"
   ]
  },
  {
   "cell_type": "code",
   "execution_count": 8,
   "metadata": {
    "collapsed": false
   },
   "outputs": [],
   "source": [
    "c = OG.Cell()"
   ]
  },
  {
   "cell_type": "code",
   "execution_count": 9,
   "metadata": {
    "collapsed": false
   },
   "outputs": [
    {
     "name": "stdout",
     "output_type": "stream",
     "text": [
      "occupied\n"
     ]
    }
   ],
   "source": [
    "print c"
   ]
  },
  {
   "cell_type": "code",
   "execution_count": 10,
   "metadata": {
    "collapsed": true
   },
   "outputs": [],
   "source": [
    "o = [OG.Observation.HIT, OG.Observation.HIT, OG.Observation.NO_OBS, OG.Observation.NO_OBS,\n",
    "     OG.Observation.HIT, OG.Observation.MISS, OG.Observation.NO_OBS, OG.Observation.NO_OBS,\n",
    "     OG.Observation.MISS, OG.Observation.MISS, OG.Observation.MISS, OG.Observation.MISS]"
   ]
  },
  {
   "cell_type": "code",
   "execution_count": 11,
   "metadata": {
    "collapsed": false
   },
   "outputs": [
    {
     "data": {
      "text/plain": [
       "'\\nfor obs in s:\\n    o = OG.Observation.MISS\\n    if obs == 255:\\n        o = OG.Observation.HIT\\n    elif obs == 127:\\n        o = OG.Observation.MISS\\n    c.step(o)\\n    c.printStateMatrix()\\n'"
      ]
     },
     "execution_count": 11,
     "metadata": {},
     "output_type": "execute_result"
    }
   ],
   "source": [
    "#Observation number to value mapping\n",
    "OBS_MAP = {0: OG.Observation.NO_OBS,\n",
    "          127: OG.Observation.MISS, \n",
    "          255: OG.Observation.HIT}\n",
    "\n",
    "STATE_MAP = {OG.State.EMPTY: 0,\n",
    "            OG.State.OCC: 255}\n",
    "'''\n",
    "for obs in s:\n",
    "    o = OG.Observation.MISS\n",
    "    if obs == 255:\n",
    "        o = OG.Observation.HIT\n",
    "    elif obs == 127:\n",
    "        o = OG.Observation.MISS\n",
    "    c.step(o)\n",
    "    c.printStateMatrix()\n",
    "\n",
    "'''"
   ]
  },
  {
   "cell_type": "code",
   "execution_count": 39,
   "metadata": {
    "collapsed": false
   },
   "outputs": [],
   "source": [
    "H = 100\n",
    "W = 100;\n",
    "grid = [[OG.Cell() for i in range(W)] for j in range(H)]\n",
    "occ_map = np.zeros((H, W), dtype = np.uint8)"
   ]
  },
  {
   "cell_type": "code",
   "execution_count": 41,
   "metadata": {
    "collapsed": false
   },
   "outputs": [],
   "source": [
    "for t in range(20):\n",
    "    for y in range(len(grid)):\n",
    "        for x in range(len(grid)):\n",
    "            obs = LS[y, x, t]\n",
    "            grid[y][x].step(OBS_MAP[obs])\n",
    "            occ_map[y][x]  = STATE_MAP[grid[y][x].getState()]\n",
    "    #print occ_map"
   ]
  },
  {
   "cell_type": "code",
   "execution_count": 21,
   "metadata": {
    "collapsed": false,
    "scrolled": true
   },
   "outputs": [
    {
     "data": {
      "text/plain": [
       "array([[0, 0, 0, 0, 0],\n",
       "       [0, 0, 0, 0, 0],\n",
       "       [0, 0, 0, 0, 0],\n",
       "       [0, 0, 0, 0, 0],\n",
       "       [0, 0, 0, 0, 0]], dtype=uint8)"
      ]
     },
     "execution_count": 21,
     "metadata": {},
     "output_type": "execute_result"
    }
   ],
   "source": [
    "occ_map"
   ]
  },
  {
   "cell_type": "code",
   "execution_count": 27,
   "metadata": {
    "collapsed": false
   },
   "outputs": [
    {
     "data": {
      "text/plain": [
       "array([[0, 0, 0, 0, 0],\n",
       "       [0, 0, 0, 0, 0],\n",
       "       [0, 0, 0, 0, 0],\n",
       "       [0, 0, 0, 0, 0],\n",
       "       [0, 0, 0, 0, 0]], dtype=uint8)"
      ]
     },
     "execution_count": 27,
     "metadata": {},
     "output_type": "execute_result"
    }
   ],
   "source": [
    "GT[0:5, 0:5, 0]"
   ]
  },
  {
   "cell_type": "code",
   "execution_count": 28,
   "metadata": {
    "collapsed": false
   },
   "outputs": [
    {
     "data": {
      "text/plain": [
       "array([[0, 0, 0, 0, 0],\n",
       "       [0, 0, 0, 0, 0],\n",
       "       [0, 0, 0, 0, 0],\n",
       "       [0, 0, 0, 0, 0],\n",
       "       [0, 0, 0, 0, 0]], dtype=uint8)"
      ]
     },
     "execution_count": 28,
     "metadata": {},
     "output_type": "execute_result"
    }
   ],
   "source": [
    "GT[0:5, 0:5, 1]"
   ]
  },
  {
   "cell_type": "code",
   "execution_count": 34,
   "metadata": {
    "collapsed": false
   },
   "outputs": [
    {
     "data": {
      "text/plain": [
       "(100L, 20L)"
      ]
     },
     "execution_count": 34,
     "metadata": {},
     "output_type": "execute_result"
    }
   ],
   "source": [
    "GT[0].shape"
   ]
  },
  {
   "cell_type": "code",
   "execution_count": 35,
   "metadata": {
    "collapsed": false
   },
   "outputs": [
    {
     "data": {
      "text/plain": [
       "(100L, 100L, 20L)"
      ]
     },
     "execution_count": 35,
     "metadata": {},
     "output_type": "execute_result"
    }
   ],
   "source": [
    "GT.shape"
   ]
  },
  {
   "cell_type": "code",
   "execution_count": 36,
   "metadata": {
    "collapsed": true
   },
   "outputs": [],
   "source": [
    "a = np.random.random_integers(5, size=(10,10, 3))"
   ]
  },
  {
   "cell_type": "code",
   "execution_count": 38,
   "metadata": {
    "collapsed": false
   },
   "outputs": [
    {
     "data": {
      "text/plain": [
       "array([[[5, 4, 3],\n",
       "        [1, 2, 2],\n",
       "        [3, 5, 1],\n",
       "        [1, 1, 3],\n",
       "        [3, 3, 2]],\n",
       "\n",
       "       [[3, 3, 4],\n",
       "        [3, 3, 3],\n",
       "        [5, 3, 1],\n",
       "        [3, 2, 1],\n",
       "        [4, 1, 4]],\n",
       "\n",
       "       [[4, 3, 1],\n",
       "        [5, 5, 3],\n",
       "        [5, 4, 5],\n",
       "        [5, 5, 3],\n",
       "        [3, 4, 3]],\n",
       "\n",
       "       [[5, 4, 1],\n",
       "        [4, 3, 1],\n",
       "        [4, 4, 3],\n",
       "        [1, 2, 3],\n",
       "        [2, 5, 1]],\n",
       "\n",
       "       [[3, 1, 2],\n",
       "        [2, 3, 4],\n",
       "        [5, 2, 2],\n",
       "        [4, 1, 5],\n",
       "        [3, 4, 3]]])"
      ]
     },
     "execution_count": 38,
     "metadata": {},
     "output_type": "execute_result"
    }
   ],
   "source": [
    "a[0:5, 0:5]"
   ]
  },
  {
   "cell_type": "code",
   "execution_count": null,
   "metadata": {
    "collapsed": true
   },
   "outputs": [],
   "source": []
  }
 ],
 "metadata": {
  "kernelspec": {
   "display_name": "Python 2",
   "language": "python",
   "name": "python2"
  },
  "language_info": {
   "codemirror_mode": {
    "name": "ipython",
    "version": 2
   },
   "file_extension": ".py",
   "mimetype": "text/x-python",
   "name": "python",
   "nbconvert_exporter": "python",
   "pygments_lexer": "ipython2",
   "version": "2.7.11"
  }
 },
 "nbformat": 4,
 "nbformat_minor": 0
}
