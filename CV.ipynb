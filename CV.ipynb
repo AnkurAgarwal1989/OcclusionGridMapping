{
 "cells": [
  {
   "cell_type": "code",
   "execution_count": 48,
   "metadata": {
    "collapsed": false
   },
   "outputs": [],
   "source": [
    "import cv2\n",
    "import numpy as np\n",
    "import matplotlib.pyplot as plt\n",
    "%matplotlib inline\n",
    "plt.rcParams['image.cmap'] = 'gray'"
   ]
  },
  {
   "cell_type": "code",
   "execution_count": null,
   "metadata": {
    "collapsed": true
   },
   "outputs": [],
   "source": []
  },
  {
   "cell_type": "code",
   "execution_count": 71,
   "metadata": {
    "collapsed": false
   },
   "outputs": [],
   "source": [
    "img1 = cv2.imread('F:/Dispatch/OccGrid/37global_map.png', 0)\n",
    "img2 = cv2.imread('F:/Dispatch/OccGrid/38global_map.png', 0)"
   ]
  },
  {
   "cell_type": "code",
   "execution_count": 74,
   "metadata": {
    "collapsed": false
   },
   "outputs": [
    {
     "data": {
      "text/plain": [
       "<matplotlib.image.AxesImage at 0x7e8d7b8>"
      ]
     },
     "execution_count": 74,
     "metadata": {},
     "output_type": "execute_result"
    },
    {
     "data": {
      "image/png": "[encoded data removed]",
      "text/plain": [
       "<matplotlib.figure.Figure at 0x72e36a0>"
      ]
     },
     "metadata": {},
     "output_type": "display_data"
    }
   ],
   "source": [
    "plt.imshow(img1)"
   ]
  },
  {
   "cell_type": "code",
   "execution_count": 75,
   "metadata": {
    "collapsed": false
   },
   "outputs": [
    {
     "data": {
      "text/plain": [
       "<matplotlib.image.AxesImage at 0x8157e48>"
      ]
     },
     "execution_count": 75,
     "metadata": {},
     "output_type": "execute_result"
    },
    {
     "data": {
      "image/png": "[encoded data removed]",
      "text/plain": [
       "<matplotlib.figure.Figure at 0x72ee1d0>"
      ]
     },
     "metadata": {},
     "output_type": "display_data"
    }
   ],
   "source": [
    "plt.imshow(img2)"
   ]
  },
  {
   "cell_type": "code",
   "execution_count": 76,
   "metadata": {
    "collapsed": false
   },
   "outputs": [],
   "source": [
    "c_1, labels_1, stats_1, centroids_1 = cv2.connectedComponentsWithStats(img1, 4)\n",
    "c_2, labels_2, stats_2, centroids_2 = cv2.connectedComponentsWithStats(img2, 4)"
   ]
  },
  {
   "cell_type": "code",
   "execution_count": 83,
   "metadata": {
    "collapsed": false
   },
   "outputs": [
    {
     "data": {
      "text/plain": [
       "array([[ 50.19856926,  48.7672881 ],\n",
       "       [  6.        ,  21.        ],\n",
       "       [ 84.        ,  36.        ],\n",
       "       [ 39.        ,  41.        ],\n",
       "       [ 54.        ,  44.        ],\n",
       "       [  6.        ,  83.        ],\n",
       "       [ 31.        ,  93.        ],\n",
       "       [ 73.        ,  95.19791667]])"
      ]
     },
     "execution_count": 83,
     "metadata": {},
     "output_type": "execute_result"
    }
   ],
   "source": [
    "centroids_1"
   ]
  },
  {
   "cell_type": "code",
   "execution_count": 82,
   "metadata": {
    "collapsed": false
   },
   "outputs": [
    {
     "data": {
      "text/plain": [
       "array([[ 49.64985544,  49.21779634],\n",
       "       [  6.        ,  21.        ],\n",
       "       [ 86.        ,  36.        ],\n",
       "       [ 39.        ,  40.        ],\n",
       "       [ 55.        ,  42.        ],\n",
       "       [ 30.        ,  93.        ],\n",
       "       [ 72.        ,  95.19791667]])"
      ]
     },
     "execution_count": 82,
     "metadata": {},
     "output_type": "execute_result"
    }
   ],
   "source": [
    "centroids_2"
   ]
  },
  {
   "cell_type": "code",
   "execution_count": 84,
   "metadata": {
    "collapsed": true
   },
   "outputs": [],
   "source": [
    "darr = np.zeros((c_1 - 1, c_2 - 1))"
   ]
  },
  {
   "cell_type": "code",
   "execution_count": 93,
   "metadata": {
    "collapsed": false
   },
   "outputs": [],
   "source": [
    "from scipy.spatial.distance import cdist"
   ]
  },
  {
   "cell_type": "code",
   "execution_count": 94,
   "metadata": {
    "collapsed": false
   },
   "outputs": [],
   "source": [
    "y = cdist(centroids_1, centroids_2, 'sqeuclidean')"
   ]
  },
  {
   "cell_type": "code",
   "execution_count": 96,
   "metadata": {
    "collapsed": false
   },
   "outputs": [
    {
     "data": {
      "text/plain": [
       "(8L, 7L)"
      ]
     },
     "execution_count": 96,
     "metadata": {},
     "output_type": "execute_result"
    }
   ],
   "source": [
    "y.shape"
   ]
  },
  {
   "cell_type": "code",
   "execution_count": 98,
   "metadata": {
    "collapsed": false
   },
   "outputs": [
    {
     "data": {
      "text/plain": [
       "array([0, 1, 2, 3, 4, 5, 5, 6], dtype=int64)"
      ]
     },
     "execution_count": 98,
     "metadata": {},
     "output_type": "execute_result"
    }
   ],
   "source": [
    "np.argmin(y, 1)"
   ]
  },
  {
   "cell_type": "code",
   "execution_count": 99,
   "metadata": {
    "collapsed": false
   },
   "outputs": [
    {
     "data": {
      "text/plain": [
       "array([[  0.70996093,  52.19708625,  38.00981568,  14.22228161,\n",
       "          8.29758551,  48.62627893,  51.29430428],\n",
       "       [ 51.97647459,   0.        ,  81.39410298,  38.07886553,\n",
       "         53.31041174,  75.89466384,  99.30423373],\n",
       "       [ 36.80546931,  79.42921377,   2.        ,  45.17742799,\n",
       "         29.61418579,  78.51751397,  60.40193157],\n",
       "       [ 13.45182507,  38.58756276,  47.26520919,   1.        ,\n",
       "         16.03121954,  52.77309921,  63.45403195],\n",
       "       [  6.79331703,  53.22593353,  32.984845  ,  15.5241747 ,\n",
       "          2.23606798,  54.56189146,  54.26994261],\n",
       "       [ 55.19553573,  62.        ,  92.78469701,  54.20332093,\n",
       "         63.89053138,  26.        ,  67.11772621],\n",
       "       [ 47.58884812,  76.21679605,  79.20858539,  53.60037313,\n",
       "         56.36488268,   1.        ,  41.05887039],\n",
       "       [ 51.5693777 ,  99.97165017,  60.60852529,  64.82908301,\n",
       "         56.16064759,  43.05613589,   1.        ]])"
      ]
     },
     "execution_count": 99,
     "metadata": {},
     "output_type": "execute_result"
    }
   ],
   "source": [
    "y = np.sqrt(y)\n",
    "y"
   ]
  },
  {
   "cell_type": "code",
   "execution_count": 103,
   "metadata": {
    "collapsed": false
   },
   "outputs": [
    {
     "data": {
      "text/plain": [
       "array([ 0.70996093,  0.        ,  2.        ,  1.        ,  2.23606798,\n",
       "        1.        ,  1.        ])"
      ]
     },
     "execution_count": 103,
     "metadata": {},
     "output_type": "execute_result"
    }
   ],
   "source": [
    "np.amin(y, axis = 0)"
   ]
  },
  {
   "cell_type": "code",
   "execution_count": 104,
   "metadata": {
    "collapsed": false
   },
   "outputs": [
    {
     "data": {
      "text/plain": [
       "array([  0.70996093,   0.        ,   2.        ,   1.        ,\n",
       "         2.23606798,  26.        ,   1.        ,   1.        ])"
      ]
     },
     "execution_count": 104,
     "metadata": {},
     "output_type": "execute_result"
    }
   ],
   "source": [
    "np.amin(y, axis = 1)"
   ]
  },
  {
   "cell_type": "code",
   "execution_count": 108,
   "metadata": {
    "collapsed": false
   },
   "outputs": [
    {
     "name": "stdout",
     "output_type": "stream",
     "text": [
      "0 0.709960932178\n",
      "1 0.0\n",
      "2 2.0\n",
      "3 1.0\n",
      "4 2.2360679775\n",
      "6 1.0\n",
      "7 1.0\n"
     ]
    }
   ],
   "source": [
    "\n",
    "for p in range(0, len(centroids_1)):\n",
    "    if min(y[p]) < 9: # if newest center is lesser than 9 pixels \n",
    "        # adjust center to 6 pixels in direction\n",
    "        # add to global map\n",
    "    else: # must be a new blob\n",
    "        # add to global map\n",
    "        print p, min(y[p])"
   ]
  },
  {
   "cell_type": "code",
   "execution_count": 109,
   "metadata": {
    "collapsed": true
   },
   "outputs": [],
   "source": [
    "def drawObstacle(img, (x, y), r, value):\n",
    "    cv2.circle(img, (int(x), int(y)), r, (value), -1)\n",
    "    return img"
   ]
  },
  {
   "cell_type": "code",
   "execution_count": 141,
   "metadata": {
    "collapsed": false
   },
   "outputs": [],
   "source": [
    "from scipy.spatial.distance import cdist\n",
    "import math\n",
    "def getNewCenter(l_x, l_y, g_x, g_y):\n",
    "    newX = 0\n",
    "    newY = 0\n",
    "    if (g_x == l_x and g_y == l_y):\n",
    "        return (l_x, l_y)\n",
    "    if (g_x == l_x):\n",
    "        if (g_y > l_y):\n",
    "            #move down\n",
    "            newY = l_y + 6\n",
    "            newX = l_x\n",
    "        elif (g_y < l_y):\n",
    "            #move down\n",
    "            newY = l_y - 6\n",
    "            newX = l_x\n",
    "            \n",
    "    elif (g_y == l_y):\n",
    "        if (g_x > l_x):\n",
    "            #move down\n",
    "            newY = l_y\n",
    "            newX = l_x + 6\n",
    "        elif (g_x < l_x):\n",
    "            #move down\n",
    "            newY = l_y\n",
    "            newX = l_x - 6\n",
    "    else:\n",
    "        theta = math.atan( (g_y - l_y) / (g_x - l_x) )\n",
    "        print theta\n",
    "        newX = l_x + 6 * math.cos(theta)\n",
    "        newY = l_y + 6 * math.sin(theta)\n",
    "    print l_x, l_y, g_x, g_y, newX, newY\n",
    "    return (newX, newY)\n",
    "\n",
    "def remap(local_map, global_map):\n",
    "    c_l, labels_l, stats_l, centroids_l = cv2.connectedComponentsWithStats(local_map, 4)\n",
    "    c_g, labels_g, stats_g, centroids_g = cv2.connectedComponentsWithStats(global_map, 4)\n",
    "    \n",
    "    #get distance matrix between all centroids\n",
    "    dist = cdist(centroids_l, centroids_g, 'sqeuclidean')\n",
    "    \n",
    "    #find shortes distance between the local and global obstacle positions\n",
    "    \n",
    "    for p in range(1, c_l):\n",
    "        if min(dist[p]) < 9: # if newest center is lesser than 9 pixels \n",
    "            # adjust center to 6 pixels in direction\n",
    "            best_g = np.argmin(dist[p])\n",
    "            (cx, cy) = getNewCenter(centroids_l[p][0], centroids_l[p][1], centroids_g[best_g][0], centroids_g[best_g][1])\n",
    "            global_map = drawObstacle(global_map, (cx, cy), 6, 255)\n",
    "            # add to global map\n",
    "        else: # must be a new blob\n",
    "            global_map = drawObstacle(global_map, (centroids_l[p][0], centroids_l[p][1]), 6, 255)\n",
    "    plt.imshow(global_map)\n",
    "    "
   ]
  },
  {
   "cell_type": "code",
   "execution_count": 142,
   "metadata": {
    "collapsed": false
   },
   "outputs": [],
   "source": [
    "img1 = cv2.imread('F:/Dispatch/OccGrid/37global_map.png', 0)\n",
    "img2 = cv2.imread('F:/Dispatch/OccGrid/38global_map.png', 0)\n",
    "img3 = cv2.imread('F:/Dispatch/OccGrid/38global_map.png', 0)"
   ]
  },
  {
   "cell_type": "code",
   "execution_count": 143,
   "metadata": {
    "collapsed": false
   },
   "outputs": [
    {
     "data": {
      "image/png": "[encoded data removed]",
      "text/plain": [
       "<matplotlib.figure.Figure at 0x7021c18>"
      ]
     },
     "metadata": {},
     "output_type": "display_data"
    }
   ],
   "source": [
    "remap(img1, img2)"
   ]
  },
  {
   "cell_type": "code",
   "execution_count": 144,
   "metadata": {
    "collapsed": false
   },
   "outputs": [
    {
     "data": {
      "text/plain": [
       "<matplotlib.image.AxesImage at 0xa4a1080>"
      ]
     },
     "execution_count": 144,
     "metadata": {},
     "output_type": "execute_result"
    },
    {
     "data": {
      "image/png": "[encoded data removed]",
      "text/plain": [
       "<matplotlib.figure.Figure at 0xa3d2b70>"
      ]
     },
     "metadata": {},
     "output_type": "display_data"
    }
   ],
   "source": [
    "plt.imshow(img3)"
   ]
  },
  {
   "cell_type": "code",
   "execution_count": 156,
   "metadata": {
    "collapsed": false
   },
   "outputs": [
    {
     "name": "stdout",
     "output_type": "stream",
     "text": [
      "0.785398163397\n",
      "41 46 39 44 45.2426406871 45.2426406871\n"
     ]
    },
    {
     "data": {
      "text/plain": [
       "(45.242640687119284, 45.242640687119284)"
      ]
     },
     "execution_count": 156,
     "metadata": {},
     "output_type": "execute_result"
    }
   ],
   "source": [
    "getNewCenter(41, 46, 39, 44)"
   ]
  },
  {
   "cell_type": "code",
   "execution_count": 154,
   "metadata": {
    "collapsed": false
   },
   "outputs": [
    {
     "data": {
      "text/plain": [
       "29.189703863491072"
      ]
     },
     "execution_count": 154,
     "metadata": {},
     "output_type": "execute_result"
    }
   ],
   "source": [
    "23.9302325581 + 6 * math.sin(1.06870612802)"
   ]
  },
  {
   "cell_type": "code",
   "execution_count": 148,
   "metadata": {
    "collapsed": false
   },
   "outputs": [
    {
     "data": {
      "text/plain": [
       "5.662199924667442"
      ]
     },
     "execution_count": 148,
     "metadata": {},
     "output_type": "execute_result"
    }
   ],
   "source": [
    "2.02222222222 + 6 * math.cos(-0.918940255919)"
   ]
  },
  {
   "cell_type": "code",
   "execution_count": 149,
   "metadata": {
    "collapsed": false
   },
   "outputs": [
    {
     "data": {
      "text/plain": [
       "18.896911712230594"
      ]
     },
     "execution_count": 149,
     "metadata": {},
     "output_type": "execute_result"
    }
   ],
   "source": [
    "23.6666666667 + 6 * math.sin(-0.918940255919)"
   ]
  },
  {
   "cell_type": "code",
   "execution_count": null,
   "metadata": {
    "collapsed": true
   },
   "outputs": [],
   "source": []
  }
 ],
 "metadata": {
  "anaconda-cloud": {},
  "kernelspec": {
   "display_name": "Python [Root]",
   "language": "python",
   "name": "Python [Root]"
  },
  "language_info": {
   "codemirror_mode": {
    "name": "ipython",
    "version": 2
   },
   "file_extension": ".py",
   "mimetype": "text/x-python",
   "name": "python",
   "nbconvert_exporter": "python",
   "pygments_lexer": "ipython2",
   "version": "2.7.12"
  }
 },
 "nbformat": 4,
 "nbformat_minor": 0
}
