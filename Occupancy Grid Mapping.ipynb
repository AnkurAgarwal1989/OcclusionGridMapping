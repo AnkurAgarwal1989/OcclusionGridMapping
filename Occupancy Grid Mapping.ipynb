{
 "cells": [
  {
   "cell_type": "markdown",
   "metadata": {},
   "source": [
    "\n",
    "# Occupany Grid Mapping"
   ]
  },
  {
   "cell_type": "markdown",
   "metadata": {},
   "source": [
    "This problem of estimating the full state of a 100 x 100 world can be treated as a Dynamic Occupancy Grid Mapping. The assumption that data is noise-free makes it possible to use staright forward startegies:\n",
    "*  Last Best ValueHit/Miss counter "
   ]
  },
  {
   "cell_type": "markdown",
   "metadata": {},
   "source": [
    "For a noiseless setting, the sensor model will look like this:\n",
    ">$P(Z| Occlusion) = 1$             ,sensor only gives a measurement when an obstacle is detected\n",
    "\n",
    ">$P(Z| !Occlusion) = 0$            ,no measurments for empty space\n",
    "\n",
    "\n",
    "For a noisy setting, a sensor model might look like this:\n",
    "\n",
    ">$P(Z| Occlusion) = 0.8$            ,80% of the times an obstacle is detected, sensor gives a reading\n",
    "\n",
    ">$P(Z| !Occlusion) = 0.3$           ,30% of the times in ama epmty space, sensor gives false readings"
   ]
  },
  {
   "cell_type": "code",
   "execution_count": null,
   "metadata": {
    "collapsed": true
   },
   "outputs": [],
   "source": [
    "import numpy as np"
   ]
  },
  {
   "cell_type": "code",
   "execution_count": 3,
   "metadata": {
    "collapsed": true
   },
   "outputs": [],
   "source": [
    "def findPosterior(P_Occ, P_Z_Occ, P_Z_NOcc):\n",
    "    P_Z = (P_Z_Occ*P_Occ) + (P_Z_NOcc*(1- P_Occ))\n",
    "    P_Occ_Z = (P_Z_Occ*P_Occ) / P_Z\n",
    "    return P_Occ_Z"
   ]
  },
  {
   "cell_type": "code",
   "execution_count": 10,
   "metadata": {
    "collapsed": false
   },
   "outputs": [
    {
     "name": "stdout",
     "output_type": "stream",
     "text": [
      "0.0789473684211\n"
     ]
    }
   ],
   "source": [
    "print findPosterior(0.3, 0.2, 1)"
   ]
  },
  {
   "cell_type": "code",
   "execution_count": 26,
   "metadata": {
    "collapsed": false
   },
   "outputs": [],
   "source": [
    "Observations = {'hit', 'miss', 'no_obs'};\n",
    "States = {'Occluded', 'Empty'}"
   ]
  },
  {
   "cell_type": "markdown",
   "metadata": {
    "collapsed": true
   },
   "source": [
    "## Observation Matrix, Bz\n",
    "3 Matrices which describe the observation model. Noise can be added here. This matrix is pre-decided and can be applied to every cell of the grid.  \n",
    "\n",
    "$$\\mathbf{B_z(h)} = \\left[\\begin{array}{rc}\n",
    "p(h | Occ) & 0\\\\\n",
    "0 & p(h | Empty) \\\\\n",
    "\\end{array}\\right]$$\n",
    "\n",
    "$$\\mathbf{h \\in (hit, miss, no\\_obs)}$$"
   ]
  },
  {
   "cell_type": "code",
   "execution_count": 20,
   "metadata": {
    "collapsed": false
   },
   "outputs": [
    {
     "name": "stdout",
     "output_type": "stream",
     "text": [
      "{'no_obs': array([[ 0.,  0.],\n",
      "       [ 0.,  0.]]), 'miss': array([[ 0.,  0.],\n",
      "       [ 0.,  0.]]), 'hit': array([[ 0.,  0.],\n",
      "       [ 0.,  0.]])}\n"
     ]
    }
   ],
   "source": [
    "import numpy as np\n",
    "B_z = {state : np.zeros((2,2)) for observation in Observations}\n",
    "print B_z"
   ]
  },
  {
   "cell_type": "code",
   "execution_count": 22,
   "metadata": {
    "collapsed": false
   },
   "outputs": [],
   "source": [
    "B_z['hit'][0, 0] = 1;\n",
    "B_z['miss'][1, 1] = 1;\n",
    "B_z['no_obs'][0, 0] = 0.01;\n",
    "B_z['no_obs'][1,1] = 0.01;"
   ]
  },
  {
   "cell_type": "code",
   "execution_count": 23,
   "metadata": {
    "collapsed": false
   },
   "outputs": [
    {
     "name": "stdout",
     "output_type": "stream",
     "text": [
      "{'no_obs': array([[ 0.01,  0.  ],\n",
      "       [ 0.  ,  0.01]]), 'miss': array([[ 0.,  0.],\n",
      "       [ 0.,  1.]]), 'hit': array([[ 1.,  0.],\n",
      "       [ 0.,  0.]])}\n"
     ]
    }
   ],
   "source": [
    "print B_z"
   ]
  },
  {
   "cell_type": "markdown",
   "metadata": {},
   "source": [
    "## Cell State Transition Matrix, Ac\n",
    "A 2x2 matrix that we \"learn\" overtime. This matrix controls how the state of a cell changes over a time step. We update this matrix after every time step.\n",
    "\n",
    "The Cell state transforms as follows: $p(c_t | c_{t-1})$\n",
    "$$\\mathbf{A_c} = \\left[\\begin{array}{rc}\n",
    "p(Occ | Occ) & p(Empty | Occ)\\\\\n",
    "p(Occ | Empty) & p(Empty | Empty) \\\\\n",
    "\\end{array}\\right]$$"
   ]
  },
  {
   "cell_type": "code",
   "execution_count": 29,
   "metadata": {
    "collapsed": false
   },
   "outputs": [
    {
     "name": "stdout",
     "output_type": "stream",
     "text": [
      "no_obs\n",
      "hit\n",
      "miss\n",
      "{'no_obs': {'Occluded_Empty': [], 'Occluded_Occluded': [], 'Empty_Empty': [], 'Empty_Occluded': []}, 'miss': {'Occluded_Empty': [], 'Occluded_Occluded': [], 'Empty_Empty': [], 'Empty_Occluded': []}, 'hit': {'Occluded_Empty': [], 'Occluded_Occluded': [], 'Empty_Empty': [], 'Empty_Occluded': []}}\n"
     ]
    }
   ],
   "source": [
    "# We need to add this to every cell. We keep a history of past points\n",
    "transition_parameters = {}; ## Dictionary of 12 probability values per time step\n",
    "for observation in Observations:\n",
    "    print observation\n",
    "    state_prob = {};  #Dictionary to hold Cell State Transition Probabilities i->j\n",
    "    for state_i in States: # State at time t-1\n",
    "        for state_j in States: # State at time t \n",
    "            state_prob[state_i+'_'+state_j] = []; # List holds past probabilities\n",
    "    transition_parameters[observation] = state_prob;\n",
    "\n",
    "print transition_parameters\n"
   ]
  },
  {
   "cell_type": "code",
   "execution_count": 37,
   "metadata": {
    "collapsed": false
   },
   "outputs": [
    {
     "name": "stdout",
     "output_type": "stream",
     "text": [
      "[[ 0.  0.]\n",
      " [ 0.  0.]]\n"
     ]
    }
   ],
   "source": [
    "# Calculating transition parameters\n",
    "time_steps = 1\n",
    "A_c_prob = {}\n",
    "for state_i in States: # State at time t-1\n",
    "    for state_j in States: # State at time t \n",
    "        for observation in Observations:\n",
    "            p = np.sum(transition_parameters[observation][state_i+'_'+state_j]);\n",
    "            p /= time_steps;\n",
    "            A_c_prob[state_i+'_'+state_j] = p;\n",
    "\n",
    "time_steps += 1;\n",
    "\n",
    "A_c = np.zeros((2,2));\n",
    "\n",
    "A_c[0, 0] = A_c_prob['Occluded_Occluded'];\n",
    "A_c[0, 1] = A_c_prob['Empty_Occluded'];\n",
    "A_c[1, 0] = A_c_prob['Occluded_Empty'];\n",
    "A_c[1, 1] = A_c_prob['Empty_Empty'];\n",
    "print A_c\n",
    "#need to normalise\n",
    "norm = max(A_c[0, 0] + A_c[0, 1], 0.0000001)\n",
    "A_c[0, 0] /= norm\n",
    "A_c[0, 1] /= norm\n",
    "\n",
    "norm = max(A_c[1, 0] + A_c[1, 1], 0.0000001)\n",
    "A_c[1, 0] /= norm\n",
    "A_c[1, 1] /= norm"
   ]
  },
  {
   "cell_type": "markdown",
   "metadata": {},
   "source": [
    "## Cell State Matrix, Q\n",
    "A 1x2 matrix that shows the state of the cell. This is updated for each cell at every time step. \n",
    "\n",
    "The update equation is as follows: $Q_t = Q_{t-1} A_c B_z \\eta$\n",
    "$$\\mathbf{Q} = \\left[\\begin{array}{rc}\n",
    "p(Occ | z_{1:t}) & p(Empty | z_{1:t})\\\\\n",
    "\\end{array}\\right]$$"
   ]
  },
  {
   "cell_type": "code",
   "execution_count": 38,
   "metadata": {
    "collapsed": true
   },
   "outputs": [],
   "source": [
    "Q = np.zeros((1, 2))"
   ]
  },
  {
   "cell_type": "code",
   "execution_count": null,
   "metadata": {
    "collapsed": true
   },
   "outputs": [],
   "source": [
    "##init\n",
    "#A_c = [0.9 0.1\n",
    "#       0.1 0.9]\n",
    "#Q = [0.9 1] //Assuming all cells are occupied in beginning..also safer\n",
    "\n",
    "#FOR every time step\n",
    "#read a cell value from the scan\n",
    "# A = A_c \n",
    "# if scan_value == 0\n",
    "# observation = 'no_obs'\n",
    "## B = B_z[observation]\n",
    "\n",
    "#read the state from grid map\n",
    "# state_i = Occluded or Empty\n",
    "def update(Q, A, B):\n",
    "    newQ = Q.dot(A.dot(B));\n",
    "    norm = newQ.sum();\n",
    "    newQ /= norm;\n",
    "    return newQ\n",
    "\n",
    "Q = update(Q, A, B)\n",
    "\n",
    "if (Q[0] > 0.5): ##Occupied\n",
    "    #set cell value to 255 in map\n",
    "    #state_j = \"Occupied\"\n",
    "    p = Q[0]\n",
    "    print \"Occupied\"\n",
    "\n",
    "else:##Empty\n",
    "    #set cell value to 0 in map\n",
    "    #state_j = \"Empty\"\"\n",
    "    p = 1- Q[0]\n",
    "    print \"Empty\"\n",
    "\n",
    "transition_parameters[observation][state_i + '_' + state_j].append(p);\n",
    "    \n",
    "        \n"
   ]
  }
 ],
 "metadata": {
  "anaconda-cloud": {},
  "kernelspec": {
   "display_name": "Python [Root]",
   "language": "python",
   "name": "Python [Root]"
  },
  "language_info": {
   "codemirror_mode": {
    "name": "ipython",
    "version": 2
   },
   "file_extension": ".py",
   "mimetype": "text/x-python",
   "name": "python",
   "nbconvert_exporter": "python",
   "pygments_lexer": "ipython2",
   "version": "2.7.12"
  }
 },
 "nbformat": 4,
 "nbformat_minor": 0
}
