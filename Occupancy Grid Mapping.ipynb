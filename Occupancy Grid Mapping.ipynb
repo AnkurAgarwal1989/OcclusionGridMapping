{
 "cells": [
  {
   "cell_type": "markdown",
   "metadata": {},
   "source": [
    "\n",
    "# Occupany Grid Mapping"
   ]
  },
  {
   "cell_type": "markdown",
   "metadata": {},
   "source": [
    "This problem of estimating the full state of a 100 x 100 world can be treated as a Dynamic Occupancy Grid Mapping. The assumption that data is noise-free makes it possible to use staright forward startegies:\n",
    "*  Last Best ValueHit/Miss counter "
   ]
  },
  {
   "cell_type": "markdown",
   "metadata": {},
   "source": [
    "For a noiseless setting, the sensor model will look like this:\n",
    ">$P(Z| Occlusion) = 1$             ,sensor only gives a measurement when an obstacle is detected\n",
    "\n",
    ">$P(Z| !Occlusion) = 0$            ,no measurments for empty space\n",
    "\n",
    "\n",
    "For a noisy setting, a sensor model might look like this:\n",
    "\n",
    ">$P(Z| Occlusion) = 0.8$            ,80% of the times an obstacle is detected, sensor gives a reading\n",
    "\n",
    ">$P(Z| !Occlusion) = 0.3$           ,30% of the times in ama epmty space, sensor gives false readings"
   ]
  },
  {
   "cell_type": "code",
   "execution_count": null,
   "metadata": {
    "collapsed": true
   },
   "outputs": [],
   "source": [
    "import numpy as np"
   ]
  },
  {
   "cell_type": "code",
   "execution_count": 3,
   "metadata": {
    "collapsed": true
   },
   "outputs": [],
   "source": [
    "def findPosterior(P_Occ, P_Z_Occ, P_Z_NOcc):\n",
    "    P_Z = (P_Z_Occ*P_Occ) + (P_Z_NOcc*(1- P_Occ))\n",
    "    P_Occ_Z = (P_Z_Occ*P_Occ) / P_Z\n",
    "    return P_Occ_Z"
   ]
  },
  {
   "cell_type": "code",
   "execution_count": 10,
   "metadata": {
    "collapsed": false
   },
   "outputs": [
    {
     "name": "stdout",
     "output_type": "stream",
     "text": [
      "0.0789473684211\n"
     ]
    }
   ],
   "source": [
    "print findPosterior(0.3, 0.2, 1)"
   ]
  },
  {
   "cell_type": "markdown",
   "metadata": {
    "collapsed": true
   },
   "source": [
    "## Observation Matrix, Bz\n",
    "3 Matrices which describe the observation model. This is pre-decided. Noise can be added here.\n",
    "\n",
    "$\\mathbf{B_z(h)} = \\left[\\begin{array}{rc}\n",
    "p(h | Occ) & 0\\\\\n",
    "0 & p(h | Empty) \\\\\n",
    "\\end{array}\\right]\n",
    "$\n",
    "\n",
    "$\\mathbf{h \\in (hit, miss, no\\_obs)}$\n",
    "\n"
   ]
  },
  {
   "cell_type": "markdown",
   "metadata": {},
   "source": []
  }
 ],
 "metadata": {
  "kernelspec": {
   "display_name": "Python 2",
   "language": "python",
   "name": "python2"
  },
  "language_info": {
   "codemirror_mode": {
    "name": "ipython",
    "version": 2
   },
   "file_extension": ".py",
   "mimetype": "text/x-python",
   "name": "python",
   "nbconvert_exporter": "python",
   "pygments_lexer": "ipython2",
   "version": "2.7.11"
  }
 },
 "nbformat": 4,
 "nbformat_minor": 0
}
